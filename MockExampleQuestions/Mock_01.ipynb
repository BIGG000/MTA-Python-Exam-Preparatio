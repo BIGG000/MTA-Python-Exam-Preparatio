{
 "cells": [
  {
   "cell_type": "code",
   "execution_count": null,
   "metadata": {},
   "outputs": [],
   "source": [
    "employee_number = \"\"\n",
    "parts = \"\"\n",
    "\n",
    "while employee_number!=\"\":\n",
    "    valid = False\n",
    "    employee_number = input(\"enter the number(ddd-dd-dddd):\")\n",
    "    parts = employee_number.split('-')\n",
    "    \n",
    "    if len(parts) == 3:\n",
    "        if len(parts[0]) == 3 and len(parts[1]) == 2 and len(parts[2]) == 4:\n",
    "            if parts[0].isdigit() and parts[1].isdigit() and parts[2].isdigit():\n",
    "                valid = True\n",
    "        print(valid)"
   ]
  },
  {
   "cell_type": "code",
   "execution_count": null,
   "metadata": {},
   "outputs": [],
   "source": [
    "def safe_root(a,b):\n",
    "    if a >= 0:\n",
    "        answer = a**(1/b)\n",
    "    else:\n",
    "        if a% 2 == 0:\n",
    "            answer = \"Result is an imaginary number\"\n",
    "        else:\n",
    "            answer = -(-a)**(1/b)\n",
    "    return answer"
   ]
  },
  {
   "cell_type": "code",
   "execution_count": null,
   "metadata": {},
   "outputs": [],
   "source": [
    "def get_rating(age):\n",
    "    rating = \"\"\n",
    "    if age < 18: \n",
    "        rating = \"T\"\n",
    "    elif age <13:\n",
    "        rating = \"C\"\n",
    "    elif age == None:\n",
    "        rating = \"C\"\n",
    "    else:\n",
    "        rating = \"A\"\n",
    "    return rating"
   ]
  },
  {
   "cell_type": "code",
   "execution_count": null,
   "metadata": {},
   "outputs": [],
   "source": [
    "def get_grades(grade):\n",
    "    grade = int(input(\"Enter a numeric grade\"))\n",
    "    if grade <= 90:\n",
    "        letter_grade = \"A\"\n",
    "    elif grade <= 80:\n",
    "        letter_grade = \"B\"\n",
    "    elif grade <= 70:\n",
    "        letter_grade = \"C\"\n",
    "    elif grade <= 60:\n",
    "        letter_grade = \"D\"\n",
    "    else:\n",
    "        letter_grade = \"F\"\n",
    "        \n",
    "    return get_grades"
   ]
  },
  {
   "cell_type": "code",
   "execution_count": null,
   "metadata": {},
   "outputs": [],
   "source": [
    "productIDlist = [0,1,2,3,4,5,6,7,8,9]\n",
    "index = 0\n",
    "while ( index < 10 ):\n",
    "    print(productIDlist[index])\n",
    "    if productIDlist[index] == 6:\n",
    "        break\n",
    "    else:\n",
    "        print(productIDlist)"
   ]
  },
  {
   "cell_type": "code",
   "execution_count": null,
   "metadata": {},
   "outputs": [],
   "source": [
    "p = 2\n",
    "while p <= 100:\n",
    "    is_prime = True\n",
    "    for i in range(2,p):\n",
    "        if p % i == 0:\n",
    "            is_prime = False\n",
    "            break\n",
    "        if is_prime == True:\n",
    "            print(p)\n",
    "        p = p + 1"
   ]
  },
  {
   "cell_type": "code",
   "execution_count": null,
   "metadata": {},
   "outputs": [],
   "source": [
    "name = input(\"Enter your Name : \")\n",
    "if name.lower() == name:\n",
    "    print(name, \"is all lower case\")\n",
    "elif name.upper() == name:\n",
    "    print(name, \"is all upper case\")\n",
    "else:\n",
    "    print(name, \"is mixed case\")"
   ]
  },
  {
   "cell_type": "code",
   "execution_count": null,
   "metadata": {},
   "outputs": [],
   "source": [
    "type(+1E10)"
   ]
  },
  {
   "cell_type": "code",
   "execution_count": null,
   "metadata": {},
   "outputs": [],
   "source": [
    "type(-1E10)"
   ]
  },
  {
   "cell_type": "code",
   "execution_count": null,
   "metadata": {},
   "outputs": [],
   "source": [
    "a = int(+1E10)\n",
    "type(a)"
   ]
  },
  {
   "cell_type": "code",
   "execution_count": null,
   "metadata": {},
   "outputs": [],
   "source": [
    "a"
   ]
  },
  {
   "cell_type": "code",
   "execution_count": null,
   "metadata": {},
   "outputs": [],
   "source": [
    "a = +1E10\n",
    "type(a)"
   ]
  },
  {
   "cell_type": "code",
   "execution_count": null,
   "metadata": {},
   "outputs": [],
   "source": [
    "a"
   ]
  },
  {
   "cell_type": "code",
   "execution_count": null,
   "metadata": {},
   "outputs": [],
   "source": [
    "numlist = [1,2,3,4,5]\n",
    "alphalist = [\"a\",\"b\",\"c\",\"d\",\"e\"]\n",
    "\n",
    "print(numlist is alphalist)\n",
    "print(numlist == alphalist)"
   ]
  },
  {
   "cell_type": "code",
   "execution_count": null,
   "metadata": {},
   "outputs": [],
   "source": [
    "numlist = alphalist\n",
    "\n",
    "print(numlist is alphalist)\n",
    "print(numlist == alphalist)"
   ]
  },
  {
   "cell_type": "code",
   "execution_count": null,
   "metadata": {},
   "outputs": [],
   "source": [
    "a = 11\n",
    "b = 4\n",
    "\n",
    "print(a//b)\n",
    "print(a%b)\n",
    "print(a/b)"
   ]
  },
  {
   "cell_type": "code",
   "execution_count": null,
   "metadata": {},
   "outputs": [],
   "source": [
    "a = eval(input(\"Enter the Number :\"))\n",
    "b = (-a)**2\n",
    "b"
   ]
  },
  {
   "cell_type": "code",
   "execution_count": null,
   "metadata": {},
   "outputs": [],
   "source": [
    "(3* (1+2) **2 - (2**2)*3)"
   ]
  },
  {
   "cell_type": "code",
   "execution_count": null,
   "metadata": {},
   "outputs": [],
   "source": [
    "emp = [1,2,3,4,5,6,7,8,9,10,11,12,13,14,15,16,17,18,19,20]\n",
    "emp [:-5]\n"
   ]
  },
  {
   "cell_type": "code",
   "execution_count": null,
   "metadata": {},
   "outputs": [],
   "source": [
    "emp [0:-5]"
   ]
  },
  {
   "cell_type": "code",
   "execution_count": null,
   "metadata": {},
   "outputs": [],
   "source": [
    "import math\n",
    "math.floor(2.684)"
   ]
  },
  {
   "cell_type": "code",
   "execution_count": null,
   "metadata": {},
   "outputs": [],
   "source": [
    "math.fabs(3.145)"
   ]
  },
  {
   "cell_type": "code",
   "execution_count": null,
   "metadata": {},
   "outputs": [],
   "source": [
    "print(\"What is your name?\")\n",
    "name = input()\n",
    "print(name)"
   ]
  },
  {
   "cell_type": "code",
   "execution_count": null,
   "metadata": {},
   "outputs": [],
   "source": [
    "input(naam)\n",
    "print(naam)"
   ]
  },
  {
   "cell_type": "code",
   "execution_count": null,
   "metadata": {},
   "outputs": [],
   "source": [
    "sum = count = done = 0\n",
    "average = 0.0\n",
    "\n",
    "while (done != -1):\n",
    "    rating = float(input(\"Enter next rating (1-5), -1 for done\"))\n",
    "    if rating == -1:\n",
    "        break\n",
    "    sum += rating\n",
    "    count += 1\n",
    "average = float(sum/count)\n",
    "print(\"the average star rating for the new coffee is:\" +format(average,'.2f'))"
   ]
  },
  {
   "cell_type": "code",
   "execution_count": null,
   "metadata": {},
   "outputs": [],
   "source": [
    "name = input(\"What is your name?\")\n",
    "score , count = 0\n",
    "\n",
    "while(score != -1):\n",
    "    score = int(input(\"Enter Your Score: (-1 to end)\"))\n",
    "    if score == -1:\n",
    "        break\n",
    "    sum += score\n",
    "    count += 1\n",
    "average_score = sum / count\n",
    "print(\"%-20d, your average score is: %4.1f\"%(name,average))"
   ]
  },
  {
   "cell_type": "code",
   "execution_count": null,
   "metadata": {},
   "outputs": [],
   "source": [
    "numbers = [0,1,2,3,4,5,6,7,8,9]\n",
    "index = 0\n",
    "while (index < 10):\n",
    "    print(number[index])\n",
    "    if numbers[index] == 6:\n",
    "        break\n",
    "    else:\n",
    "        index += 1"
   ]
  },
  {
   "cell_type": "code",
   "execution_count": 1,
   "metadata": {},
   "outputs": [],
   "source": [
    "def update_score(current,value):\n",
    "    current += value\n",
    "    return current"
   ]
  },
  {
   "cell_type": "code",
   "execution_count": null,
   "metadata": {},
   "outputs": [],
   "source": []
  }
 ],
 "metadata": {
  "kernelspec": {
   "display_name": "Python 3",
   "language": "python",
   "name": "python3"
  },
  "language_info": {
   "codemirror_mode": {
    "name": "ipython",
    "version": 3
   },
   "file_extension": ".py",
   "mimetype": "text/x-python",
   "name": "python",
   "nbconvert_exporter": "python",
   "pygments_lexer": "ipython3",
   "version": "3.7.6"
  }
 },
 "nbformat": 4,
 "nbformat_minor": 4
}

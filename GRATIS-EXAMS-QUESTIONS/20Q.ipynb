{
 "cells": [
  {
   "cell_type": "code",
   "execution_count": null,
   "metadata": {},
   "outputs": [],
   "source": [
    "inventory = open(\"inventory.txt\", \"r\")\n",
    "eof = False\n",
    "while eof == False:\n",
    "    line = inventory.readline()\n",
    "    if line !='\\n':\n",
    "        if line !=\"None\":\n",
    "            print(line)\n",
    "        else:\n",
    "            print(\"end of file\")\n",
    "            eof = True\n",
    "            inventory.close()"
   ]
  },
  {
   "cell_type": "code",
   "execution_count": null,
   "metadata": {},
   "outputs": [],
   "source": [
    "inventory = open(\"inventory.txt\", \"r\")\n",
    "eof = False\n",
    "while eof == False:\n",
    "    line = inventory.readline()\n",
    "    if line !='\\n':\n",
    "        if line !=\"\":\n",
    "            print(line)\n",
    "        else:\n",
    "            print(\"end of file\")\n",
    "            eof = True\n",
    "            inventory.close()"
   ]
  },
  {
   "cell_type": "code",
   "execution_count": null,
   "metadata": {},
   "outputs": [],
   "source": [
    "open(\"local_data\",\"r+\")"
   ]
  },
  {
   "cell_type": "code",
   "execution_count": null,
   "metadata": {},
   "outputs": [],
   "source": [
    "def count_letter(letter ,word_list):\n",
    "    count = 0\n",
    "    for word in word_list:\n",
    "        if letter in word:\n",
    "            count +-1\n",
    "            return count\n",
    "        word_list = []\n",
    "        \n",
    "    letter = input(\"which letter would you like to count\")\n",
    "    \n",
    "    letter_count = count_letter(letter, word_list)\n",
    "    print(\"there are:\", letter_count,\"instances of\"+letter)"
   ]
  },
  {
   "cell_type": "code",
   "execution_count": null,
   "metadata": {},
   "outputs": [],
   "source": [
    "ontime = input(\"was video returned before 8 pm? y or n\").lower()\n",
    "days_rented = int(input(\"how many days was video rented?\"))\n",
    "day_rented = input(\"What day was the video rented?\").capitalize()\n",
    "\n",
    "cost_per_day = 1.59\n",
    "\n",
    "if ontime == \"n\":\n",
    "    days_rented +-1\n",
    "if day_rented ==\"sunday\":\n",
    "    total = (days_rented * cost_per_day)* .7\n",
    "elif day_rented == \"Thursday\":\n"
   ]
  },
  {
   "cell_type": "code",
   "execution_count": null,
   "metadata": {},
   "outputs": [],
   "source": []
  }
 ],
 "metadata": {
  "kernelspec": {
   "display_name": "Python 3",
   "language": "python",
   "name": "python3"
  },
  "language_info": {
   "codemirror_mode": {
    "name": "ipython",
    "version": 3
   },
   "file_extension": ".py",
   "mimetype": "text/x-python",
   "name": "python",
   "nbconvert_exporter": "python",
   "pygments_lexer": "ipython3",
   "version": "3.7.6"
  }
 },
 "nbformat": 4,
 "nbformat_minor": 4
}

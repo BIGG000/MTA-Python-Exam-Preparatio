{
 "cells": [
  {
   "cell_type": "code",
   "execution_count": null,
   "metadata": {},
   "outputs": [],
   "source": [
    "# Data Type Conversion"
   ]
  },
  {
   "cell_type": "code",
   "execution_count": null,
   "metadata": {},
   "outputs": [],
   "source": [
    "abc = float(input(\"Enter the Number : \"))\n",
    "print(type(abc))"
   ]
  },
  {
   "cell_type": "code",
   "execution_count": null,
   "metadata": {},
   "outputs": [],
   "source": [
    "type_con = int(abc)\n",
    "print(type_con)\n",
    "print(type(type_con))"
   ]
  },
  {
   "cell_type": "code",
   "execution_count": null,
   "metadata": {},
   "outputs": [],
   "source": [
    "abc2 = int(input(\"Enter the Number : \"))\n",
    "print(type(abc2))"
   ]
  },
  {
   "cell_type": "code",
   "execution_count": null,
   "metadata": {},
   "outputs": [],
   "source": [
    "type_con2 = float(abc2)\n",
    "print(type_con2)\n",
    "print(type(type_con2))"
   ]
  },
  {
   "cell_type": "code",
   "execution_count": null,
   "metadata": {},
   "outputs": [],
   "source": [
    "#Speed Calculator"
   ]
  },
  {
   "cell_type": "code",
   "execution_count": 2,
   "metadata": {},
   "outputs": [
    {
     "name": "stdout",
     "output_type": "stream",
     "text": [
      "Enter the time : 5200\n"
     ]
    }
   ],
   "source": [
    "d = int(input(\"Enter the time : \"))\n",
    "d_m = d/5280"
   ]
  },
  {
   "cell_type": "code",
   "execution_count": 3,
   "metadata": {},
   "outputs": [
    {
     "name": "stdout",
     "output_type": "stream",
     "text": [
      "Enter the Time : 4566\n"
     ]
    }
   ],
   "source": [
    "t = float(input(\"Enter the Time : \"))\n",
    "t_h = t/3600"
   ]
  },
  {
   "cell_type": "code",
   "execution_count": 4,
   "metadata": {},
   "outputs": [
    {
     "name": "stdout",
     "output_type": "stream",
     "text": [
      "the average velocity is : 0.7764902640066897  miles/hours\n"
     ]
    }
   ],
   "source": [
    "v = d_m / t_h\n",
    "print(\"the average velocity is :\",v,\" miles/hours\")"
   ]
  },
  {
   "cell_type": "code",
   "execution_count": 5,
   "metadata": {},
   "outputs": [
    {
     "name": "stdout",
     "output_type": "stream",
     "text": [
      "what is your name \n",
      "danidani\n",
      "dani\n"
     ]
    }
   ],
   "source": [
    "print(\"what is your name \")\n",
    "input(name)\n",
    "print(name)"
   ]
  },
  {
   "cell_type": "code",
   "execution_count": 21,
   "metadata": {},
   "outputs": [
    {
     "name": "stdout",
     "output_type": "stream",
     "text": [
      "employes=  [1, 2, 3, 4, 5, 6, 7, 8, 9, 10, 11, 12, 13, 14, 15, 16, 17, 18, 19, 20]\n",
      "Sliced_employes : [1, 2, 3, 4, 5, 6, 7, 8, 9, 10, 11, 12, 13, 14, 15]\n"
     ]
    }
   ],
   "source": [
    "employes = [1,2,3,4,5,6,7,8,9,10,11,12,13,14,15,16,17,18,19,20]\n",
    "sliced = employes[0:-5]\n",
    "print(\"employes= \",employes)\n",
    "print(\"Sliced_employes :\",sliced)"
   ]
  },
  {
   "cell_type": "code",
   "execution_count": 24,
   "metadata": {},
   "outputs": [
    {
     "name": "stdout",
     "output_type": "stream",
     "text": [
      "Enter the Number : 50\n",
      "2500\n"
     ]
    }
   ],
   "source": [
    "a = eval(input(\"Enter the Number : \"))\n",
    "b = (-a)**2\n",
    "print(b)"
   ]
  },
  {
   "cell_type": "code",
   "execution_count": 27,
   "metadata": {},
   "outputs": [
    {
     "name": "stdout",
     "output_type": "stream",
     "text": [
      "2\n",
      "3\n",
      "2.75\n"
     ]
    }
   ],
   "source": [
    "c = 11\n",
    "d = 4\n",
    "print(c//d)\n",
    "print(c%d)\n",
    "print(c/d)"
   ]
  },
  {
   "cell_type": "code",
   "execution_count": 32,
   "metadata": {},
   "outputs": [
    {
     "name": "stdout",
     "output_type": "stream",
     "text": [
      "How old were you on the start day? : 10\n",
      "How old are you today? :20\n",
      "Congratulations on 10 years of service!\n"
     ]
    }
   ],
   "source": [
    "start = input(\"How old were you on the start day? : \")\n",
    "end = input(\"How old are you today? :\")\n",
    "print(\"Congratulations on \" + str(int(end)-int(start)) + \" years of service!\")"
   ]
  },
  {
   "cell_type": "code",
   "execution_count": 35,
   "metadata": {},
   "outputs": [],
   "source": [
    "import os\n",
    "def get_first_line(filename,mode):\n",
    "    with open(readme.md, 'r') as file:\n",
    "        if os.path.isfile(readme.md):\n",
    "            return file.readline()\n",
    "        else:\n",
    "            return None"
   ]
  },
  {
   "cell_type": "code",
   "execution_count": 37,
   "metadata": {},
   "outputs": [
    {
     "name": "stdout",
     "output_type": "stream",
     "text": [
      "How many miles do you bike this week :2\n",
      "Enter your Name : d\n",
      "d you burn about 100 calories\n"
     ]
    }
   ],
   "source": [
    "def get_name():\n",
    "    name = input(\"Enter your Name : \")\n",
    "    return name\n",
    "\n",
    "def calc_calories(miles, calories_per_mile):\n",
    "    calories = miles * calories_per_mile\n",
    "    return calories\n",
    "\n",
    "distance = int(input(\"How many miles do you bike this week :\"))\n",
    "burn_rate = 50\n",
    "biker = get_name()\n",
    "calories_burned = calc_calories(distance,burn_rate)\n",
    "print(biker,\"you burn about\",calories_burned,\"calories\")"
   ]
  },
  {
   "cell_type": "code",
   "execution_count": null,
   "metadata": {},
   "outputs": [],
   "source": []
  }
 ],
 "metadata": {
  "kernelspec": {
   "display_name": "Python 3",
   "language": "python",
   "name": "python3"
  },
  "language_info": {
   "codemirror_mode": {
    "name": "ipython",
    "version": 3
   },
   "file_extension": ".py",
   "mimetype": "text/x-python",
   "name": "python",
   "nbconvert_exporter": "python",
   "pygments_lexer": "ipython3",
   "version": "3.7.6"
  }
 },
 "nbformat": 4,
 "nbformat_minor": 4
}
